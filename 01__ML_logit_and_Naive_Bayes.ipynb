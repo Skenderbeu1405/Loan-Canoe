{
 "cells": [
  {
   "cell_type": "markdown",
   "metadata": {},
   "source": [
    "# HMDA Data (Con't) -- ML Logit Regression Model & Naive Bayes Classifers\n",
    "\n",
    "## Using ML with ```scikit-learn``` for  Logistical Regression Model\n",
    "This notebook explores the Home Mortgage Disclosure Act (HMDA) data for one year -- 2017. We use concepts from as well as tools from our own research and further readings to create a machine learning logistical regression model along with Naive Bayes classifers for predictive properties of loan approval rates. \n",
    "\n",
    "*Note that as of July 12, 2019, HMDA data is publically available for 2007 - 2017.  \n",
    "https://www.consumerfinance.gov/data-research/hmda/explore\n",
    "\n",
    "Documentation:\n",
    "--> *add lins here*\n",
    "\n",
    "*There are many learning sources and prior work around similar topics: We draw inspiration from past Cohorts as well as learning materials from peer sources such as Kaggle and Towards Data Science*"
   ]
  },
  {
   "cell_type": "markdown",
   "metadata": {},
   "source": [
    "---"
   ]
  },
  {
   "cell_type": "markdown",
   "metadata": {},
   "source": [
    "## Importing Libraries and Loading the Data"
   ]
  },
  {
   "cell_type": "markdown",
   "metadata": {},
   "source": [
    "First, we need to import all the libraries we are going to utilize throughout this notebook. We import everything at the very top of this notebook for order and best practice."
   ]
  },
  {
   "cell_type": "code",
   "execution_count": 9,
   "metadata": {},
   "outputs": [],
   "source": [
    "# Importing Libraries.\n",
    "\n",
    "import pandas as pd\n",
    "import numpy as np\n",
    "import matplotlib.pyplot as plt\n",
    "import seaborn as sns\n",
    "import math\n",
    "\n",
    "import os\n",
    "import psycopg2\n",
    "import pandas.io.sql as psql\n",
    "import sqlalchemy\n",
    "from sqlalchemy import create_engine\n",
    "\n",
    "from sklearn import preprocessing\n",
    "from sklearn.preprocessing import LabelEncoder\n",
    "from scipy import stats\n",
    "from pylab import*\n",
    "from matplotlib.ticker import LogLocator\n",
    "\n",
    "%matplotlib inline\n",
    "%config InlineBackend.figure_format = 'retina'"
   ]
  },
  {
   "cell_type": "markdown",
   "metadata": {},
   "source": [
    "*-----*\n",
    " \n",
    "Second, we establish the connection to the AWS PostgreSQL Relational Database System."
   ]
  },
  {
   "cell_type": "code",
   "execution_count": 10,
   "metadata": {},
   "outputs": [],
   "source": [
    "# Postgres (username, password, and database name) -- we define variables and put it into a function to easily call using an engine.\n",
    "postgres_host = 'aws-pgsql-loan-canoe.cr3nrpkvgwaj.us-east-2.rds.amazonaws.com'  \n",
    "postgres_port = '5432' \n",
    "postgres_username = 'reporting_user' \n",
    "postgres_password = 'team_loan_canoe2019'\n",
    "postgres_dbname = \"paddle_loan_canoe\"\n",
    "postgres_str = ('postgresql://{username}:{password}@{host}:{port}/{dbname}'\n",
    "                .format(username = postgres_username,\n",
    "                        password = postgres_password,\n",
    "                        host = postgres_host,\n",
    "                        port = postgres_port,\n",
    "                        dbname = postgres_dbname)\n",
    "               )\n",
    "\n",
    "# Creating the connection.\n",
    "cnx = create_engine(postgres_str)"
   ]
  },
  {
   "cell_type": "markdown",
   "metadata": {},
   "source": [
    "*-----*\n",
    " \n",
    "Last, we use pandas to read the sql panda frame we saved from the wrangling script (see script: HMDA DATA Summ. Stats. for more )"
   ]
  },
  {
   "cell_type": "code",
   "execution_count": 11,
   "metadata": {},
   "outputs": [
    {
     "data": {
      "text/html": [
       "<div>\n",
       "<style scoped>\n",
       "    .dataframe tbody tr th:only-of-type {\n",
       "        vertical-align: middle;\n",
       "    }\n",
       "\n",
       "    .dataframe tbody tr th {\n",
       "        vertical-align: top;\n",
       "    }\n",
       "\n",
       "    .dataframe thead th {\n",
       "        text-align: right;\n",
       "    }\n",
       "</style>\n",
       "<table border=\"1\" class=\"dataframe\">\n",
       "  <thead>\n",
       "    <tr style=\"text-align: right;\">\n",
       "      <th></th>\n",
       "      <th>outcome</th>\n",
       "      <th>year</th>\n",
       "      <th>dn_reason1</th>\n",
       "      <th>agency</th>\n",
       "      <th>state</th>\n",
       "      <th>county</th>\n",
       "      <th>ln_type</th>\n",
       "      <th>ln_purp</th>\n",
       "      <th>ln_amt_000s</th>\n",
       "      <th>hud_med_fm_inc</th>\n",
       "      <th>pop</th>\n",
       "      <th>rt_spread</th>\n",
       "      <th>outcome_bucket</th>\n",
       "      <th>prc_blw_hs__2013_17_5yravg</th>\n",
       "      <th>prc_hs__2013_17_5yravg</th>\n",
       "      <th>prc_ba_plus__2013_17_5yravg</th>\n",
       "      <th>r_birth_2017</th>\n",
       "      <th>r_intl_mig_2017</th>\n",
       "      <th>r_natural_inc_2017</th>\n",
       "    </tr>\n",
       "  </thead>\n",
       "  <tbody>\n",
       "    <tr>\n",
       "      <th>0</th>\n",
       "      <td>Application denied by financial institution</td>\n",
       "      <td>2017</td>\n",
       "      <td>Credit application incomplete</td>\n",
       "      <td>Department of Housing and Urban Development</td>\n",
       "      <td>Michigan</td>\n",
       "      <td>Genesee County</td>\n",
       "      <td>Conventional</td>\n",
       "      <td>Refinancing</td>\n",
       "      <td>140</td>\n",
       "      <td>53700</td>\n",
       "      <td>8791</td>\n",
       "      <td>0.0</td>\n",
       "      <td>Denied, Not Accepted, or Withdrawn</td>\n",
       "      <td>9</td>\n",
       "      <td>36</td>\n",
       "      <td>21</td>\n",
       "      <td>10</td>\n",
       "      <td>0</td>\n",
       "      <td>-1</td>\n",
       "    </tr>\n",
       "    <tr>\n",
       "      <th>1</th>\n",
       "      <td>Application denied by financial institution</td>\n",
       "      <td>2017</td>\n",
       "      <td>Credit application incomplete</td>\n",
       "      <td>Department of Housing and Urban Development</td>\n",
       "      <td>Michigan</td>\n",
       "      <td>Genesee County</td>\n",
       "      <td>Conventional</td>\n",
       "      <td>Refinancing</td>\n",
       "      <td>140</td>\n",
       "      <td>53700</td>\n",
       "      <td>8791</td>\n",
       "      <td>0.0</td>\n",
       "      <td>Denied, Not Accepted, or Withdrawn</td>\n",
       "      <td>10</td>\n",
       "      <td>32</td>\n",
       "      <td>20</td>\n",
       "      <td>10</td>\n",
       "      <td>0</td>\n",
       "      <td>-1</td>\n",
       "    </tr>\n",
       "    <tr>\n",
       "      <th>2</th>\n",
       "      <td>Loan purchased by the institution</td>\n",
       "      <td>2017</td>\n",
       "      <td></td>\n",
       "      <td>Department of Housing and Urban Development</td>\n",
       "      <td>Illinois</td>\n",
       "      <td>Cook County</td>\n",
       "      <td>Conventional</td>\n",
       "      <td>Home purchase</td>\n",
       "      <td>124</td>\n",
       "      <td>77500</td>\n",
       "      <td>4316</td>\n",
       "      <td>0.0</td>\n",
       "      <td>Approved or Loan Purchased by the Institution</td>\n",
       "      <td>4</td>\n",
       "      <td>22</td>\n",
       "      <td>40</td>\n",
       "      <td>9</td>\n",
       "      <td>3</td>\n",
       "      <td>1</td>\n",
       "    </tr>\n",
       "    <tr>\n",
       "      <th>3</th>\n",
       "      <td>Loan purchased by the institution</td>\n",
       "      <td>2017</td>\n",
       "      <td></td>\n",
       "      <td>Department of Housing and Urban Development</td>\n",
       "      <td>Illinois</td>\n",
       "      <td>Cook County</td>\n",
       "      <td>Conventional</td>\n",
       "      <td>Home purchase</td>\n",
       "      <td>124</td>\n",
       "      <td>77500</td>\n",
       "      <td>4316</td>\n",
       "      <td>0.0</td>\n",
       "      <td>Approved or Loan Purchased by the Institution</td>\n",
       "      <td>14</td>\n",
       "      <td>24</td>\n",
       "      <td>37</td>\n",
       "      <td>9</td>\n",
       "      <td>3</td>\n",
       "      <td>1</td>\n",
       "    </tr>\n",
       "    <tr>\n",
       "      <th>4</th>\n",
       "      <td>Loan purchased by the institution</td>\n",
       "      <td>2017</td>\n",
       "      <td></td>\n",
       "      <td>Department of Housing and Urban Development</td>\n",
       "      <td>Illinois</td>\n",
       "      <td>Cook County</td>\n",
       "      <td>Conventional</td>\n",
       "      <td>Home purchase</td>\n",
       "      <td>124</td>\n",
       "      <td>77500</td>\n",
       "      <td>4316</td>\n",
       "      <td>0.0</td>\n",
       "      <td>Approved or Loan Purchased by the Institution</td>\n",
       "      <td>21</td>\n",
       "      <td>37</td>\n",
       "      <td>15</td>\n",
       "      <td>9</td>\n",
       "      <td>3</td>\n",
       "      <td>1</td>\n",
       "    </tr>\n",
       "  </tbody>\n",
       "</table>\n",
       "</div>"
      ],
      "text/plain": [
       "                                       outcome  year  \\\n",
       "0  Application denied by financial institution  2017   \n",
       "1  Application denied by financial institution  2017   \n",
       "2            Loan purchased by the institution  2017   \n",
       "3            Loan purchased by the institution  2017   \n",
       "4            Loan purchased by the institution  2017   \n",
       "\n",
       "                      dn_reason1                                       agency  \\\n",
       "0  Credit application incomplete  Department of Housing and Urban Development   \n",
       "1  Credit application incomplete  Department of Housing and Urban Development   \n",
       "2                                 Department of Housing and Urban Development   \n",
       "3                                 Department of Housing and Urban Development   \n",
       "4                                 Department of Housing and Urban Development   \n",
       "\n",
       "      state          county       ln_type        ln_purp  ln_amt_000s  \\\n",
       "0  Michigan  Genesee County  Conventional    Refinancing          140   \n",
       "1  Michigan  Genesee County  Conventional    Refinancing          140   \n",
       "2  Illinois     Cook County  Conventional  Home purchase          124   \n",
       "3  Illinois     Cook County  Conventional  Home purchase          124   \n",
       "4  Illinois     Cook County  Conventional  Home purchase          124   \n",
       "\n",
       "   hud_med_fm_inc   pop  rt_spread  \\\n",
       "0           53700  8791        0.0   \n",
       "1           53700  8791        0.0   \n",
       "2           77500  4316        0.0   \n",
       "3           77500  4316        0.0   \n",
       "4           77500  4316        0.0   \n",
       "\n",
       "                                  outcome_bucket  prc_blw_hs__2013_17_5yravg  \\\n",
       "0             Denied, Not Accepted, or Withdrawn                           9   \n",
       "1             Denied, Not Accepted, or Withdrawn                          10   \n",
       "2  Approved or Loan Purchased by the Institution                           4   \n",
       "3  Approved or Loan Purchased by the Institution                          14   \n",
       "4  Approved or Loan Purchased by the Institution                          21   \n",
       "\n",
       "   prc_hs__2013_17_5yravg  prc_ba_plus__2013_17_5yravg  r_birth_2017  \\\n",
       "0                      36                           21            10   \n",
       "1                      32                           20            10   \n",
       "2                      22                           40             9   \n",
       "3                      24                           37             9   \n",
       "4                      37                           15             9   \n",
       "\n",
       "   r_intl_mig_2017  r_natural_inc_2017  \n",
       "0                0                  -1  \n",
       "1                0                  -1  \n",
       "2                3                   1  \n",
       "3                3                   1  \n",
       "4                3                   1  "
      ]
     },
     "execution_count": 11,
     "metadata": {},
     "output_type": "execute_result"
    }
   ],
   "source": [
    "#  Reading the panda dataframe we wrote to_sql from the wrangling script -- note: the dataframe is already wrangled so simply we SELECT *.\n",
    "\n",
    "    # --> extracting everything from our training data into a new dataframe here, and using an index_col.\n",
    "train_2017 = psql.read_sql_query ('SELECT * FROM aa__testing.loans_2017__training', cnx, index_col='outcome').reset_index()\n",
    "\n",
    "    #--> # using pandas to view the first 5 rows for a quick spot-check.\n",
    "train_2017.head(5)\n"
   ]
  },
  {
   "cell_type": "markdown",
   "metadata": {},
   "source": [
    "---"
   ]
  },
  {
   "cell_type": "markdown",
   "metadata": {},
   "source": [
    "### 00 - A Simplistic Model Purely on One Feature (note: This is not a regression). \n",
    "\n",
    "Just to test this out, let's look at a simple linear (non-OLS) model that predicts purely on median household income."
   ]
  },
  {
   "cell_type": "code",
   "execution_count": 12,
   "metadata": {},
   "outputs": [
    {
     "data": {
      "text/html": [
       "<div>\n",
       "<style scoped>\n",
       "    .dataframe tbody tr th:only-of-type {\n",
       "        vertical-align: middle;\n",
       "    }\n",
       "\n",
       "    .dataframe tbody tr th {\n",
       "        vertical-align: top;\n",
       "    }\n",
       "\n",
       "    .dataframe thead th {\n",
       "        text-align: right;\n",
       "    }\n",
       "</style>\n",
       "<table border=\"1\" class=\"dataframe\">\n",
       "  <thead>\n",
       "    <tr style=\"text-align: right;\">\n",
       "      <th></th>\n",
       "      <th>outcome_flg</th>\n",
       "      <th>hud_med_fm_inc</th>\n",
       "    </tr>\n",
       "  </thead>\n",
       "  <tbody>\n",
       "    <tr>\n",
       "      <th>0</th>\n",
       "      <td>0</td>\n",
       "      <td>53700</td>\n",
       "    </tr>\n",
       "    <tr>\n",
       "      <th>1</th>\n",
       "      <td>0</td>\n",
       "      <td>53700</td>\n",
       "    </tr>\n",
       "    <tr>\n",
       "      <th>2</th>\n",
       "      <td>1</td>\n",
       "      <td>77500</td>\n",
       "    </tr>\n",
       "    <tr>\n",
       "      <th>3</th>\n",
       "      <td>1</td>\n",
       "      <td>77500</td>\n",
       "    </tr>\n",
       "    <tr>\n",
       "      <th>4</th>\n",
       "      <td>1</td>\n",
       "      <td>77500</td>\n",
       "    </tr>\n",
       "  </tbody>\n",
       "</table>\n",
       "</div>"
      ],
      "text/plain": [
       "   outcome_flg  hud_med_fm_inc\n",
       "0            0           53700\n",
       "1            0           53700\n",
       "2            1           77500\n",
       "3            1           77500\n",
       "4            1           77500"
      ]
     },
     "execution_count": 12,
     "metadata": {},
     "output_type": "execute_result"
    }
   ],
   "source": [
    "# Categorizing predicted Y var (loan outcome)  & other integer vars (integer encoding) using postgreSQL and pandas.\n",
    "train_2017_en = psql.read_sql_query ('''SELECT CAST( CASE \n",
    "                                                         WHEN tr17.outcome_bucket = 'Denied, Not Accepted, or Withdrawn' \n",
    "                                                             THEN 0 ELSE 1 \n",
    "                                                     END As INT\n",
    "                                                  ) As outcome_flg,\n",
    "                                                tr17.hud_med_fm_inc\n",
    "                                        FROM aa__testing.loans_2017__training tr17'''\n",
    "                                     , cnx)\n",
    "train_2017_en.head(5)"
   ]
  },
  {
   "cell_type": "code",
   "execution_count": 13,
   "metadata": {},
   "outputs": [
    {
     "name": "stdout",
     "output_type": "stream",
     "text": [
      "The proportion of loan applications approved is 0.5450705949563373.\n"
     ]
    }
   ],
   "source": [
    "# Setting some \"modeling\" variables.\n",
    "loans_total = train_2017_en.shape[0] \n",
    "loans_approved = len(train_2017_en[train_2017_en.outcome_flg == 1])\n",
    "\n",
    "# Generating what proportion of the loan applications were approved.\n",
    "proportion_approved = float(loans_approved) /loans_total\n",
    "print('The proportion of loan applications approved is %s.' % proportion_approved)"
   ]
  },
  {
   "cell_type": "code",
   "execution_count": 20,
   "metadata": {},
   "outputs": [
    {
     "name": "stdout",
     "output_type": "stream",
     "text": [
      "The proportion of loan applications approved -- for households with median incomes > $75K -- is 0.6384521231522455.\n",
      "The proportion of loan applications approved -- for households with median incomes < $75K -- is 0.5069824086603518.\n"
     ]
    }
   ],
   "source": [
    "# Next step: What is a simple way to determine what proportion of the loans were approved at certain thresholds?\n",
    "\n",
    "    # --> starting by separating median household incomes into categories\n",
    "greater_than_75K = train_2017_en[train_2017_en.hud_med_fm_inc > 75000]\n",
    "less_than_75K = train_2017_en[train_2017_en.hud_med_fm_inc < 75000]\n",
    "\n",
    "    # --> determining what proportion of loans were approved for hud med inc > $75K\n",
    "proportion_greater_than_75K = float(len(greater_than_75K[greater_than_75K.outcome_flg == 1])) / len(greater_than_75K)\n",
    "print('The proportion of loan applications approved -- for households with median incomes > $75K -- is %s.' % proportion_greater_than_75K)\n",
    "\n",
    "    # --> determining what proportion of loans were approved for hud med inc < $75K    \n",
    "proportion_less_than_75K = float(len(less_than_75K[less_than_75K.outcome_flg == 1])) / len(less_than_75K)\n",
    "print('The proportion of loan applications approved -- for households with median incomes < $75K -- is %s.' % proportion_less_than_75K)"
   ]
  },
  {
   "cell_type": "markdown",
   "metadata": {},
   "source": [
    "*Result*: This simplistic \"model\" let's us know that households with median incomes ```greater than $75K``` are much more likely to get their loan applications approved. We could say that our model:\n",
    "\n",
    "- if median HH income > 75K => loan approved (64.5 percent)     \n",
    "- if median HH income < 75K => loan not likely approved (50.7 percent)  \n",
    "\n",
    "But this means that our model is not really a \"model\", because it will be wrong more than 33 percent of the time. Therefore, with this preliminary result in mind, we move on to exploring machie learning models using Scikit-learn below:\n",
    "\n",
    "**Documentation:**\n",
    "\n",
    "(1) From CCPE Machine Learnng Labs: \n",
    "- Scikit-Learn is a powerful machine learning library implemented in Python with numeric and scientific computing powerhouses Numpy, Scipy, and matplotlib for extremely fast analysis of small to medium-sized data sets. It is open source, commercially usable and contains many modern machine learning algorithms for classification, regression, clustering, feature extraction, and optimization. For this reason Scikit-Learn is often the first tool in a data scientist's toolkit for machine learning of incoming data sets. \n",
    "- Scikit-learn will expect numeric values and no blanks  \n",
    "\n",
    "(2) See Further Resources & Works Cited Links at the bottom."
   ]
  },
  {
   "cell_type": "markdown",
   "metadata": {},
   "source": [
    "---"
   ]
  },
  {
   "cell_type": "markdown",
   "metadata": {},
   "source": [
    "## 01 - Using scikit-laern: Linear Regression \n",
    "\n",
    "**Documentation:**  \n",
    "(1) https://scikit-learn.org/stable/modules/generated/sklearn.linear_model.LinearRegression.html  \n",
    "(2) https://statisticalhorizons.com/linear-vs-logistic  "
   ]
  },
  {
   "cell_type": "code",
   "execution_count": null,
   "metadata": {},
   "outputs": [],
   "source": [
    "https://scikit-learn.org/stable/modules/generated/sklearn.linear_model.LinearRegression.html"
   ]
  },
  {
   "cell_type": "code",
   "execution_count": null,
   "metadata": {},
   "outputs": [],
   "source": [
    "# Categorizing predicted Y var (loan outcome)  & other integer vars (integer encoding) using postgreSQL and pandas\n",
    "train_2017_en = psql.read_sql_query ('''SELECT Distinct tr17.agency\n",
    "                                              /*CAST (CASE \n",
    "                                                          WHEN tr17.outcome_bucket = 'Denied, Not Accepted, or Withdrawn' THEN 0 ELSE 1 \n",
    "                                                      END As INT\n",
    "                                                     ) As outcome_flg,\n",
    "                                                CAST (CASE\n",
    "                                                          WHEN agency = 'Office of the Comptroller of the Currency' THEN 1\n",
    "                                                          WHEN agency = 'Federal Deposit Insurance Corporation' THEN 2\n",
    "                                                          WHEN agency = 'National Credit Union Administration' THEN 3\n",
    "                                                          WHEN agency = 'Department of Housing and Urban Development' THEN 4\n",
    "                                                          WHEN agency = 'Consumer Financial Protection Bureau' THEN 5\n",
    "                                                     END As INT\n",
    "                                                     ) As agency_flg\n",
    "                                                     */\n",
    "                                        FROM aa__testing.loans_2017__training tr17'''\n",
    "                                     \n",
    "                                     , cnx)\n",
    "train_2017_en.head()"
   ]
  }
 ],
 "metadata": {
  "kernelspec": {
   "display_name": "Python 3",
   "language": "python",
   "name": "python3"
  },
  "language_info": {
   "codemirror_mode": {
    "name": "ipython",
    "version": 3
   },
   "file_extension": ".py",
   "mimetype": "text/x-python",
   "name": "python",
   "nbconvert_exporter": "python",
   "pygments_lexer": "ipython3",
   "version": "3.7.3"
  }
 },
 "nbformat": 4,
 "nbformat_minor": 2
}
