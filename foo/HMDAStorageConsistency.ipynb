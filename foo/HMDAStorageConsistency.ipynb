{
 "cells": [
  {
   "cell_type": "markdown",
   "metadata": {},
   "source": [
    "**Store HMDA Data in PostgreSQL by Year**\n",
    "\n",
    "**This script creates a function which will enable the team to store each year of HMDA Data consistently**\n",
    "\n",
    "Requires initial storage of raw csv file in PostgreSQL first.  Keeping that as a separate script due to PostgreSQL issue with loading null fields with '' from original CSV file.  Reference Link: https://www.postgresql.org/message-id/4C882E8E.6080301%40postnewspapers.com.au\n",
    "\n",
    "_______\n",
    "*To-Do:* \n",
    "Create the following objects, and implement the following syntax.\n",
    "    - schema v__macro_economic_indicators\n",
    "    - table populationestimates__usda_ers_2010_to_2018 \n",
    "    - table education__acs_1970_to_2017_5yravgs \n",
    "\n",
    "    GRANT USAGE ON SCHEMA v__macro_economic_indicators TO reporting_user;\n",
    "    GRANT SELECT ON TABLE v__macro_economic_indicators.populationestimates__usda_ers_2010_to_2018 TO reporting_user;\n",
    "    GRANT SELECT ON TABLE v__macro_economic_indicators.education__acs_1970_to_2017_5yravgs        TO reporting_user;\n",
    "\n",
    "*Notes from initial SQL File, determine whether to keep these in:\n",
    "--> A. Finish uploading the rest of \"main\" dataset into schema \"usa_mortgage_market\";\n",
    "--> B.1 Write a script that keeps only the variables we want (i.e. lables and codes);\n",
    "--> B.2 Cast these variables and combine into one time series dataset.*"
   ]
  },
  {
   "cell_type": "code",
   "execution_count": null,
   "metadata": {},
   "outputs": [],
   "source": [
    "import os\n",
    "import psycopg2\n",
    "import pandas as pd\n",
    "import pandas.io.sql as psql\n",
    "import sqlalchemy\n",
    "from sqlalchemy import create_engine"
   ]
  },
  {
   "cell_type": "markdown",
   "metadata": {},
   "source": [
    "**Create PostgreSQL engine**"
   ]
  },
  {
   "cell_type": "code",
   "execution_count": null,
   "metadata": {},
   "outputs": [],
   "source": [
    "# Postgres username, password, and database name.\n",
    "postgres_host = ''  \n",
    "postgres_port = '5432' \n",
    "postgres_username = '' \n",
    "postgres_password = ''\n",
    "postgres_dbname = ''\n",
    "postgres_str = ('postgresql://{username}:{password}@{host}:{port}/{dbname}'\n",
    "                .format(username = postgres_username,\n",
    "                        password = postgres_password,\n",
    "                        host = postgres_host,\n",
    "                        port = postgres_port,\n",
    "                        dbname = postgres_dbname)\n",
    "               )\n",
    "\n",
    "\n",
    "# Creating the connection.\n",
    "cnx = create_engine(postgres_str)"
   ]
  },
  {
   "cell_type": "markdown",
   "metadata": {},
   "source": [
    "**Create Python objects for key tables**"
   ]
  },
  {
   "cell_type": "code",
   "execution_count": null,
   "metadata": {},
   "outputs": [],
   "source": [
    "hmda_schema = 'public'\n",
    "tables_a = ['17', '16', '15', '14']\n",
    "tables_t = ['13', '12', '11', '10']\n",
    "tables_b = ['09','08']\n",
    "year = tables_a[0]\n",
    "test_table = f'hmda_lar_20{year}_allrecords'\n",
    "\n",
    "path = ''\n",
    "sourcedata = f'{path}{test_table}.csv'\n",
    "\n",
    "print(sourcedata)\n",
    "print(test_table)"
   ]
  },
  {
   "cell_type": "markdown",
   "metadata": {},
   "source": [
    "**I. Store codes with labels in a \"usa_mortgage_code_keys\" schema for HMDA data tables.**\n",
    "\n",
    "Original demarcation:\n",
    "END I. Store codes with labels in a \"code_keys\" schema [ 2010 - 2017 ]"
   ]
  },
  {
   "cell_type": "code",
   "execution_count": null,
   "metadata": {},
   "outputs": [],
   "source": [
    "cnx.execute('DROP SCHEMA IF EXISTS usa_mortgage_code_keys CASCADE;')"
   ]
  },
  {
   "cell_type": "code",
   "execution_count": null,
   "metadata": {},
   "outputs": [],
   "source": [
    "sql_code_keys = '''\n",
    "\n",
    "            CREATE SCHEMA usa_mortgage_code_keys ;\n",
    "\n",
    "            CREATE TABLE\n",
    "                usa_mortgage_code_keys.acts_codes\n",
    "                ( code int PRIMARY KEY,\n",
    "                  name varchar(60) NOT NULL\n",
    "                )\n",
    "            ;\n",
    "            INSERT INTO usa_mortgage_code_keys.acts_codes (code, name)\n",
    "            VALUES (1, 'Loan originated'),\n",
    "                   (2, 'Application approved but not accepted'),\n",
    "                   (3, 'Application denied by financial institution'),\n",
    "                   (4, 'Application withdrawn by applicant'),\n",
    "                   (5, 'File closed for incompleteness'),\n",
    "                   (6, 'Loan purchased by the institution'),\n",
    "                   (7, 'Preapproval request denied by financial institution'),\n",
    "                   (8, 'Preapproval request approved but not accepted')\n",
    "            ;\n",
    "           \n",
    "            CREATE TABLE\n",
    "                usa_mortgage_code_keys.agency_codes\n",
    "                ( code int PRIMARY KEY,\n",
    "                  name varchar(60) NOT NULL,\n",
    "                  abbr varchar(5) NOT NULL\n",
    "                )\n",
    "            ;\n",
    "            INSERT INTO usa_mortgage_code_keys.agency_codes (code, name, abbr )\n",
    "            VALUES (1, 'Office of the Comptroller of the Currency', '0CC'),\n",
    "                   (2, 'Federal Reserve System', 'FRS'),\n",
    "                   (3, 'Federal Deposit Insurance Corporation', 'FDIC'),\n",
    "                   (5, 'National Credit Union Administration', 'NCUA'),\n",
    "                   (7, 'Department of Housing and Urban Development', 'HUD'),\n",
    "                   (9, 'Consumer Financial Protection Bureau', 'CFPB')\n",
    "            ;\n",
    "            '''\n",
    "\n",
    "cnx.execute(sql_code_keys)"
   ]
  },
  {
   "cell_type": "code",
   "execution_count": null,
   "metadata": {},
   "outputs": [],
   "source": [
    "list_schemas = 'SELECT nspname FROM pg_catalog.pg_namespace;'\n",
    "result = pd.read_sql_query(list_schemas,cnx)\n",
    "print(result)"
   ]
  },
  {
   "cell_type": "markdown",
   "metadata": {},
   "source": [
    "**ISSUE: Note sure how to handle the next two cells; the select statements need supporting syntax for agency_code, action_taken_codes to link back to the new schema above.  Confirm how best to handle this.**"
   ]
  },
  {
   "cell_type": "code",
   "execution_count": null,
   "metadata": {},
   "outputs": [],
   "source": [
    "#To-Do: Determine whether we need this cell.  Note agency_code designation.\n",
    "sql_test_schema = f'''select distinct {test_table}.agency_code, \n",
    "{test_table}.agency_abbr, \n",
    "{test_table}.agency_name \n",
    "from public.{test_table};'''\n",
    "result = pd.read_sql_query(sql_test_schema, cnx)\n",
    "print(df_test_schema)"
   ]
  },
  {
   "cell_type": "code",
   "execution_count": null,
   "metadata": {},
   "outputs": [],
   "source": [
    "#To-Do: Determine how to handle this cell.  We need this one for the action_taken_name codes.\n",
    "sql_action_taken_codes = f'''SELECT Distinct {test_table}.action_taken_name As code, \n",
    "                CAST({test_table}.action_taken_name As varchar(60)) As nm, \n",
    "                'action_taken' As cat\n",
    "                FROM public.{test_table}\n",
    "                ) select * from action_taken_codes order by cat, code Asc;\n",
    "\n",
    "                SELECT Distinct act_code, action_taken_nm\n",
    "                INTO usa_mortgage_code_keys.hmda_act_taken_codes\n",
    "                FROM action_taken_codes;'''\n",
    "cnx.execute(sql_action_taken_codes)"
   ]
  },
  {
   "cell_type": "markdown",
   "metadata": {},
   "source": [
    "**II. Re-structuring: Assess and Execute Variable Changes -- Casting and UNION ALLs**\n",
    "\n",
    "**NOTE: need to review how to handle the first, second and third cells in this section.  It seems like we don't need them.**"
   ]
  },
  {
   "cell_type": "code",
   "execution_count": null,
   "metadata": {},
   "outputs": [],
   "source": [
    "#To-Do: Determine if we need this cell. If so, put python bindings around the following:\n",
    "\n",
    "SELECT us07.action_taken As act_taken, us07.\n",
    "    FROM usa_mortgage_market.hmda_lar_2007 us07\n",
    "\n",
    "Select * From paddle_loan_canoe.usa_mortgage_market.hmda_lar__2017 go;"
   ]
  },
  {
   "cell_type": "code",
   "execution_count": null,
   "metadata": {},
   "outputs": [],
   "source": [
    "#To-Do: Determine if we can delete this cell.\n",
    "sql_var_formatting = f'''SELECT CAST({test_table}.action_taken_name As varchar(56)) As outcome, {test_table}.as_of_year As year,\n",
    "       CAST({test_table}.denial_reason_name_1 As varchar(56)) dn_reason1 , CAST({test_table}.agency_name As varchar(56)) As agency,\n",
    "       CAST({test_table}.state_name As varchar(28)) As state,         CAST({test_table}.county_name As varchar(56)) As county,\n",
    "       CAST({test_table}.loan_type_name As varchar(56)) As ln_type,   CAST({test_table}.loan_purpose_name As varchar(56)) As ln_purp, \n",
    "       {test_table}.loan_amount_000s As ln_amt_000s, {test_table}.hud_median_family_income As hud_med_fm_inc, population as pop,\n",
    "       CAST ( CAST ( CASE\n",
    "                         WHEN {test_table}.rate_spread = '' Then '0'\n",
    "                         ELSE {test_table}.rate_spread\n",
    "                      END As varchar(5)\n",
    "                   ) As numeric\n",
    "             )\n",
    "       As rt_spread\n",
    "From public.{test_table}\n",
    ";'''\n",
    "cnx.execute(sql_var_formatting)"
   ]
  },
  {
   "cell_type": "code",
   "execution_count": null,
   "metadata": {},
   "outputs": [],
   "source": [
    "#To-Do: Determine if we need this cell. If so, put python bindings around the following:\n",
    "select distinct action_taken_name from usa_mortgage_market.{test_table};\n",
    "select distinct loan_type_name, property_type_name from usa_mortgage_market.{test_table};"
   ]
  },
  {
   "cell_type": "markdown",
   "metadata": {},
   "source": [
    "**Create Roles**\n",
    "\n",
    "Reference link for creating roles:\n",
    "https://aws.amazon.com/blogs/database/managing-postgresql-users-and-roles/"
   ]
  },
  {
   "cell_type": "code",
   "execution_count": null,
   "metadata": {},
   "outputs": [],
   "source": [
    "sql_user_roles = f'''CREATE ROLE reporting_user WITH LOGIN PASSWORD 'team_loan_canoe2019' ;\n",
    "GRANT CONNECT ON DATABASE postgres TO reporting_user;\n",
    "GRANT USAGE ON SCHEMA public   TO reporting_user;\n",
    "GRANT SELECT ON TABLE public.{test_table} TO reporting_user;'''\n",
    "cnx.execute(sql_user_roles)"
   ]
  },
  {
   "cell_type": "markdown",
   "metadata": {},
   "source": [
    "**Cast Select Variables**\n",
    "\n",
    "AK Note: changed county_nm to varchar(56)\n",
    "\n",
    "*Note for last varable in cell below:*\n",
    "This is three embedded fuctions all in one: assigns hierarchy in CASE, and converts to numeric in two steps\n"
   ]
  },
  {
   "cell_type": "code",
   "execution_count": null,
   "metadata": {},
   "outputs": [],
   "source": [
    "sql_var_formatting = f'''SELECT\n",
    "       CAST({test_table}.county_name As varchar(56))                               As county_nm,\n",
    "       CAST({test_table}.agency_name As varchar(128))                              As agency_nm,\n",
    "       CAST({test_table}.loan_type_name As varchar(128))                           As loan_type_nm,\n",
    "       CAST({test_table}.loan_purpose_name As varchar(128))                        As loan_purpose_nm,\n",
    "       CAST({test_table}.action_taken_name As varchar(128))                        As action_taken_nm,\n",
    "       {test_table}.applicant_income_000s                                          As applicant_income_000s,\n",
    "       {test_table}.hud_median_family_income                                       As hud_median_fam_inc,\n",
    "       {test_table}.loan_amount_000s                                               As loan_amt_000s,\n",
    "       CAST ( CAST ( CASE\n",
    "                         WHEN us17.rate_spread = '' Then '0'\n",
    "                         ELSE us17.rate_spread\n",
    "                     END As varchar(5)\n",
    "                   ) As numeric\n",
    "             )\n",
    "       As rt_spread,'''\n",
    "cnx.execute(sql_var_formatting)"
   ]
  },
  {
   "cell_type": "code",
   "execution_count": null,
   "metadata": {},
   "outputs": [],
   "source": [
    "result.close()"
   ]
  }
 ],
 "metadata": {
  "kernelspec": {
   "display_name": "Python 3",
   "language": "python",
   "name": "python3"
  },
  "language_info": {
   "codemirror_mode": {
    "name": "ipython",
    "version": 3
   },
   "file_extension": ".py",
   "mimetype": "text/x-python",
   "name": "python",
   "nbconvert_exporter": "python",
   "pygments_lexer": "ipython3",
   "version": "3.7.3"
  }
 },
 "nbformat": 4,
 "nbformat_minor": 2
}
