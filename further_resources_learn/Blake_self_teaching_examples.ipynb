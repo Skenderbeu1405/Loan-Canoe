{
 "cells": [
  {
   "cell_type": "markdown",
   "metadata": {},
   "source": [
    "### Learning Scripts: My Own Examples Created From Scratch\n",
    "Author: Blake Zenuni, Summer 2019"
   ]
  },
  {
   "cell_type": "markdown",
   "metadata": {},
   "source": [
    "## Importing Libraries"
   ]
  },
  {
   "cell_type": "code",
   "execution_count": 4,
   "metadata": {},
   "outputs": [],
   "source": [
    "import pandas as pd\n",
    "import numpy as np\n",
    "import matplotlib.pyplot as plt\n",
    "import seaborn as sns\n",
    "import math"
   ]
  },
  {
   "cell_type": "markdown",
   "metadata": {},
   "source": [
    "---"
   ]
  },
  {
   "cell_type": "markdown",
   "metadata": {},
   "source": [
    "### Arrays & Array Splicing"
   ]
  },
  {
   "cell_type": "code",
   "execution_count": 5,
   "metadata": {},
   "outputs": [
    {
     "data": {
      "text/plain": [
       "array([[0.45026368, 0.77039632, 0.70973344, 0.60534724, 0.46049754],\n",
       "       [0.88850947, 0.58914841, 0.34652133, 0.35830657, 0.87551106],\n",
       "       [0.15055056, 0.69276661, 0.20554073, 0.88974355, 0.28333477]])"
      ]
     },
     "execution_count": 5,
     "metadata": {},
     "output_type": "execute_result"
    }
   ],
   "source": [
    "# Arrays Learning Cell: I created this learning cell from scratch to practice the basics of arrays.\n",
    "array_learn = np.random.rand(3,5)\n",
    "array_learn"
   ]
  },
  {
   "cell_type": "markdown",
   "metadata": {},
   "source": [
    "==> From the above code and result: numpy generates a ```random array``` -- can be thought of as 3 rows and 5 columns below:')"
   ]
  },
  {
   "cell_type": "code",
   "execution_count": 6,
   "metadata": {},
   "outputs": [
    {
     "data": {
      "text/plain": [
       "array([0.77039632, 0.58914841, 0.69276661])"
      ]
     },
     "execution_count": 6,
     "metadata": {},
     "output_type": "execute_result"
    }
   ],
   "source": [
    "# Arrays Learning Cell:  I created this learning cell from scratch to practice the basics of array slicing.\n",
    "array_splice_learn = array_learn[:,1]\n",
    "array_splice_learn"
   ]
  },
  {
   "cell_type": "markdown",
   "metadata": {},
   "source": [
    "==> Now, the line above performs array splicing: taking all rows (```:```), but keeping the second column (```1```).  \n",
    "*Note:* consider the starting column as 0.  \n",
    "\n",
    "*---*\n"
   ]
  },
  {
   "cell_type": "markdown",
   "metadata": {},
   "source": [
    "\n",
    "***Key take-away:*** The ```[:, :]``` stands for everything from the beginning to the end just like for lists. The difference is that: \n",
    "- the first ```:``` stands for first dimension; \n",
    "- the second ```:``` for the second dimension."
   ]
  },
  {
   "cell_type": "code",
   "execution_count": 11,
   "metadata": {},
   "outputs": [
    {
     "data": {
      "text/plain": [
       "array([[0., 0., 0.],\n",
       "       [0., 0., 0.],\n",
       "       [0., 0., 0.]])"
      ]
     },
     "execution_count": 11,
     "metadata": {},
     "output_type": "execute_result"
    }
   ],
   "source": [
    "# Using numpy to generate a simple array with all zeros zeros:\n",
    "a = np.zeros((3, 3))\n",
    "a"
   ]
  },
  {
   "cell_type": "code",
   "execution_count": 14,
   "metadata": {},
   "outputs": [
    {
     "data": {
      "text/plain": [
       "array([[0., 0., 0.],\n",
       "       [2., 2., 2.],\n",
       "       [0., 0., 0.]])"
      ]
     },
     "execution_count": 14,
     "metadata": {},
     "output_type": "execute_result"
    }
   ],
   "source": [
    "# Assigning to a second row:\n",
    "a[1, :] = 2\n",
    "a"
   ]
  },
  {
   "cell_type": "code",
   "execution_count": 16,
   "metadata": {},
   "outputs": [
    {
     "data": {
      "text/plain": [
       "array([[0., 5., 0.],\n",
       "       [2., 5., 2.],\n",
       "       [0., 5., 0.]])"
      ]
     },
     "execution_count": 16,
     "metadata": {},
     "output_type": "execute_result"
    }
   ],
   "source": [
    "# Assigning to second column:\n",
    "a[:, 1] = 5 \n",
    "a"
   ]
  },
  {
   "cell_type": "code",
   "execution_count": 18,
   "metadata": {},
   "outputs": [
    {
     "data": {
      "text/plain": [
       "array([[9.5, 9.5, 9.5],\n",
       "       [9.5, 9.5, 9.5],\n",
       "       [9.5, 9.5, 9.5]])"
      ]
     },
     "execution_count": 18,
     "metadata": {},
     "output_type": "execute_result"
    }
   ],
   "source": [
    "# Assigning to all:\n",
    "a[:] = 9.5\n",
    "a"
   ]
  },
  {
   "cell_type": "markdown",
   "metadata": {},
   "source": [
    "*---*"
   ]
  },
  {
   "cell_type": "markdown",
   "metadata": {},
   "source": [
    "***Key take-away:*** Numpy uses tuples as indexes. In this case, this is a detailed slice assignement. Here is are some coding tips:\n",
    "- ```[0]``` ==> means line 0 of your matrix\n",
    "- ```[(0,0)]``` ==> means cell at 0,0 of your matrix\n",
    "- ```[0:1]``` ==> means lines 0 to 1 excluded of your matrix\n",
    "- ```[:1]``` ==> excluding the first value means all lines until line 1 excluded\n",
    "- ```[1:]``` ==> excluding the last param mean all lines starting form line 1 included\n",
    "- ```[:]``` ==> excluding both means all lines\n",
    "- ```[::2]``` ==> #the addition of a second ':' is the sampling. (1 item every 2)\n",
    "- ```[::]``` ==> exluding it means a sampling of 1\n",
    "- ```[:,:]``` ==> simply uses a tuple (a single , represents an empty tuple) instead of an index.\n",
    "\n",
    "**Further Resources**:  \n",
    "(1) https://stackoverflow.com/questions/16815928/what-does-mean-on-numpy-arrays/16816142"
   ]
  },
  {
   "cell_type": "markdown",
   "metadata": {},
   "source": [
    "---"
   ]
  },
  {
   "cell_type": "code",
   "execution_count": null,
   "metadata": {},
   "outputs": [],
   "source": []
  }
 ],
 "metadata": {
  "kernelspec": {
   "display_name": "Python 3",
   "language": "python",
   "name": "python3"
  },
  "language_info": {
   "codemirror_mode": {
    "name": "ipython",
    "version": 3
   },
   "file_extension": ".py",
   "mimetype": "text/x-python",
   "name": "python",
   "nbconvert_exporter": "python",
   "pygments_lexer": "ipython3",
   "version": "3.7.3"
  }
 },
 "nbformat": 4,
 "nbformat_minor": 2
}
